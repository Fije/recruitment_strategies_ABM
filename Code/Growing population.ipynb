{
 "cells": [
  {
   "cell_type": "markdown",
   "metadata": {},
   "source": [
    "# Growing population\n",
    "\n",
    "veeery interesting yeash"
   ]
  },
  {
   "cell_type": "code",
   "execution_count": 1,
   "metadata": {},
   "outputs": [],
   "source": [
    "# import dependencies\n",
    "%matplotlib inline\n",
    "import matplotlib.pyplot as plt\n",
    "import pandas as pd\n",
    "from plot import plot_param_var_conf\n",
    "from model import Environment\n",
    "from batchrunner import BatchRunner"
   ]
  },
  {
   "cell_type": "code",
   "execution_count": null,
   "metadata": {},
   "outputs": [
    {
     "name": "stderr",
     "output_type": "stream",
     "text": [
      "100%|██████████| 200/200 [01:03<00:00,  3.17it/s]\n"
     ]
    }
   ],
   "source": [
    "# run a batch, which can eihter grow or not\n",
    "param_names = ['grow']\n",
    "param_sets = [(True, ), (False, )]\n",
    "fixed_params = {'p_uf': 0.95, 'p_pu': 0.1, 'p_up': 0.5, 'p_fl': 0.8, 'p_lu': 0.05, 'g': 0.3, 'ratio': 0.48, 'size': 11, 'N': 40}\n",
    "\n",
    "model_reporters = {\"dc\": lambda m: m.dc.model_vars}\n",
    "batch = BatchRunner(Environment,\n",
    "                    fixed_parameters=fixed_params, max_steps=500,\n",
    "                    iterations=100, model_reporters=model_reporters,\n",
    "                    param_sets=param_sets, param_names=param_names)\n",
    "\n",
    "batch.run_all(6)\n",
    "data = batch.get_model_vars_dataframe()"
   ]
  },
  {
   "cell_type": "code",
   "execution_count": null,
   "metadata": {
    "collapsed": true
   },
   "outputs": [],
   "source": [
    "# now extract the interesting params (in an extremely inefficient manner)\n",
    "grown = data[data['grow'] == True]\n",
    "stead = data[data['grow'] == False]\n",
    "stead_vals = pd.DataFrame(columns=['time', 'pu_net', 'flu_net'])\n",
    "grown_vals = pd.DataFrame(columns=['time', 'pu_net', 'flu_net'])\n",
    "\n",
    "for run in stead['dc'].values:\n",
    "    for i in range(len(run['pheromone'])):\n",
    "        total = run['pheromone'][i] + run['leaders'][i] + run['followers'][i] + run['unassigned'][i]\n",
    "        stead_vals = stead_vals.append(pd.Series([i, (run['pheromone'][i] - run['unassigned'][i])/total, (run['followers'][i] + run['leaders'][i] - run['unassigned'][i])/total], index=['time', 'pu_net', 'flu_net']), ignore_index=True)\n",
    "\n",
    "for run in grown['dc'].values:\n",
    "    for i in range(len(run['pheromone'])):\n",
    "        total = run['pheromone'][i] + run['leaders'][i] + run['followers'][i] + run['unassigned'][i]\n",
    "        grown_vals = grown_vals.append(pd.Series([i, (run['pheromone'][i] - run['unassigned'][i])/total, (run['followers'][i] + run['leaders'][i] - run['unassigned'][i])/total], index=['time', 'pu_net', 'flu_net']), ignore_index=True)"
   ]
  },
  {
   "cell_type": "code",
   "execution_count": null,
   "metadata": {},
   "outputs": [],
   "source": [
    "# show the results\n",
    "fig = plt.figure(figsize=(16, 10))\n",
    "plt.suptitle('Effect of a growing population on the stable stragegy', fontsize=16)\n",
    "\n",
    "ax1 = fig.add_subplot(1, 2, 1)\n",
    "plot_param_var_conf(ax1, stead_vals, 'time', 'pu_net', label='steady', alpha=0.75)\n",
    "plot_param_var_conf(ax1, grown_vals, 'time', 'pu_net', label='grown', alpha=0.75)\n",
    "plt.legend()\n",
    "plt.ylim([-1, 1])\n",
    "\n",
    "ax2 = fig.add_subplot(1, 2, 2)\n",
    "plot_param_var_conf(ax2, stead_vals, 'time', 'flu_net', label='steady', alpha=0.75)\n",
    "plot_param_var_conf(ax2, grown_vals, 'time', 'flu_net', label='grown', alpha=0.75)\n",
    "plt.legend()\n",
    "plt.ylim([-1, 1])\n",
    "\n",
    "plt.show()"
   ]
  },
  {
   "cell_type": "code",
   "execution_count": null,
   "metadata": {
    "collapsed": true
   },
   "outputs": [],
   "source": []
  }
 ],
 "metadata": {
  "kernelspec": {
   "display_name": "Python 3",
   "language": "python",
   "name": "python3"
  },
  "language_info": {
   "codemirror_mode": {
    "name": "ipython",
    "version": 3
   },
   "file_extension": ".py",
   "mimetype": "text/x-python",
   "name": "python",
   "nbconvert_exporter": "python",
   "pygments_lexer": "ipython3",
   "version": "3.6.3"
  }
 },
 "nbformat": 4,
 "nbformat_minor": 2
}
