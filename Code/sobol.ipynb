{
 "cells": [
  {
   "cell_type": "markdown",
   "metadata": {
    "collapsed": true
   },
   "source": [
    "# Global sensitivity analysis using the Sobol method"
   ]
  },
  {
   "cell_type": "code",
   "execution_count": 11,
   "metadata": {
    "collapsed": true
   },
   "outputs": [],
   "source": [
    "#imports\n",
    "%matplotlib inline\n",
    "import pandas as pd\n",
    "import numpy as np\n",
    "from SALib.analyze import sobol\n",
    "import plot\n",
    "import matplotlib.pyplot as plt"
   ]
  },
  {
   "cell_type": "markdown",
   "metadata": {},
   "source": [
    "Read in the data and create the output variables"
   ]
  },
  {
   "cell_type": "code",
   "execution_count": 6,
   "metadata": {
    "collapsed": true
   },
   "outputs": [],
   "source": [
    "# read the data\n",
    "data = pd.read_csv('../Data/batchrun01-02-2018.csv')\n",
    "\n",
    "# create output variables\n",
    "data['total'] = np.round(data['N'] // 2) + np.round((data['N'] // 2) * data['ratio']) + data['N'] - np.round(data['N'] // 2) - np.round(\n",
    "    (data['N'] // 2) * data['ratio'])\n",
    "data['pfl_net'] = (data['pheromone'] - data['followers'] - data['leaders']) / data['total']\n",
    "data['pu_net'] = (data['pheromone'] - data['unassigned']) / data['total']\n",
    "data['flu_net'] = (data['followers'] + data['leaders'] - data['unassigned']) / data['total']\n",
    "params = ['p_uf', 'p_pu', 'p_up', 'p_fl', 'p_lu', 'g', 'ratio', 'N', 'size']"
   ]
  },
  {
   "cell_type": "markdown",
   "metadata": {},
   "source": [
    "Compute the first order, second order, and total order sensitivity indices using the Sobol method. By changing the 'output' variable different output variables can be tested. The naming scheme is:\n",
    "\n",
    "- 'pfl-net' : (pheromoners - followers - leaders)/total\n",
    "- 'pu-net' : (pheromoners - unassigned)/total\n",
    "- 'flu-net' : (followers + leaders - unassigned)/total"
   ]
  },
  {
   "cell_type": "code",
   "execution_count": 7,
   "metadata": {
    "collapsed": false
   },
   "outputs": [
    {
     "name": "stdout",
     "output_type": "stream",
     "text": [
      "Parameter S1 S1_conf ST ST_conf\n",
      "p_uf 0.003066 0.016424 0.094790 0.016171\n",
      "p_pu 0.336425 0.043559 0.674579 0.037449\n",
      "p_up 0.224872 0.040513 0.583114 0.032882\n",
      "p_fl 0.007505 0.016755 0.104576 0.017486\n",
      "p_lu 0.023506 0.022055 0.145052 0.025352\n",
      "g 0.010670 0.016581 0.088463 0.016242\n",
      "ratio 0.018206 0.021699 0.141046 0.021272\n",
      "N 0.009737 0.017811 0.115011 0.017854\n",
      "size -0.002448 0.015506 0.089094 0.018466\n",
      "\n",
      "Parameter_1 Parameter_2 S2 S2_conf\n",
      "p_uf p_pu -0.003043 0.023914\n",
      "p_uf p_up -0.016473 0.023194\n",
      "p_uf p_fl -0.012329 0.023091\n",
      "p_uf p_lu -0.008256 0.022199\n",
      "p_uf g -0.007199 0.023883\n",
      "p_uf ratio -0.004507 0.023713\n",
      "p_uf N -0.007473 0.024421\n",
      "p_uf size -0.006660 0.023552\n",
      "p_pu p_up 0.198844 0.047645\n",
      "p_pu p_fl 0.001598 0.045711\n",
      "p_pu p_lu -0.001075 0.046688\n",
      "p_pu g -0.007083 0.046452\n",
      "p_pu ratio 0.005705 0.048228\n",
      "p_pu N 0.000125 0.045184\n",
      "p_pu size 0.008577 0.045917\n",
      "p_up p_fl 0.003178 0.054243\n",
      "p_up p_lu 0.019730 0.050325\n",
      "p_up g 0.014099 0.052883\n",
      "p_up ratio 0.013853 0.051035\n",
      "p_up N 0.016379 0.050941\n",
      "p_up size 0.016492 0.052537\n",
      "p_fl p_lu -0.014483 0.024576\n",
      "p_fl g -0.011519 0.023722\n",
      "p_fl ratio -0.013759 0.021854\n",
      "p_fl N -0.018147 0.025412\n",
      "p_fl size -0.014375 0.023657\n",
      "p_lu g -0.012643 0.034075\n",
      "p_lu ratio -0.007401 0.033209\n",
      "p_lu N -0.009039 0.035625\n",
      "p_lu size -0.008474 0.033088\n",
      "g ratio -0.009112 0.020326\n",
      "g N -0.010104 0.021740\n",
      "g size -0.011378 0.019721\n",
      "ratio N -0.025095 0.028390\n",
      "ratio size -0.023314 0.026722\n",
      "N size -0.013607 0.024417\n"
     ]
    }
   ],
   "source": [
    "problem = {\n",
    "    'num_vars': 9,\n",
    "    'names': params,\n",
    "    'bounds': [[0, 1]] * 5 + [[0, 0.5]] + [[0, 1]] + [[10, 200]] + [[3, 20]]\n",
    "}\n",
    "output = 'pfl_net'\n",
    "Si = sobol.analyze(problem, data[output].as_matrix(), print_to_console=True)"
   ]
  },
  {
   "cell_type": "markdown",
   "metadata": {},
   "source": [
    "Plotting it gives more insight:"
   ]
  },
  {
   "cell_type": "code",
   "execution_count": 13,
   "metadata": {
    "collapsed": false
   },
   "outputs": [
    {
     "data": {
      "image/png": "[encoded data removed]",
      "text/plain": [
       "<matplotlib.figure.Figure at 0x10a817898>"
      ]
     },
     "metadata": {},
     "output_type": "display_data"
    }
   ],
   "source": [
    "# First order\n",
    "plot.plot_index(Si, params, '1')\n",
    "plt.show()"
   ]
  },
  {
   "cell_type": "code",
   "execution_count": 14,
   "metadata": {
    "collapsed": false
   },
   "outputs": [
    {
     "data": {
      "image/png": "[encoded data removed]",
      "text/plain": [
       "<matplotlib.figure.Figure at 0x10a93ce10>"
      ]
     },
     "metadata": {},
     "output_type": "display_data"
    }
   ],
   "source": [
    "# Total order\n",
    "plot.plot_index(Si, params, 'T')\n",
    "plt.show()"
   ]
  }
 ],
 "metadata": {
  "kernelspec": {
   "display_name": "Python 3",
   "language": "python",
   "name": "python3"
  },
  "language_info": {
   "codemirror_mode": {
    "name": "ipython",
    "version": 3
   },
   "file_extension": ".py",
   "mimetype": "text/x-python",
   "name": "python",
   "nbconvert_exporter": "python",
   "pygments_lexer": "ipython3",
   "version": "3.5.1"
  }
 },
 "nbformat": 4,
 "nbformat_minor": 0
}
