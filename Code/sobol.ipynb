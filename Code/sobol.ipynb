{
 "cells": [
  {
   "cell_type": "markdown",
   "metadata": {
    "collapsed": true
   },
   "source": [
    "# Global sensitivity analysis using the Sobol method"
   ]
  },
  {
   "cell_type": "code",
   "execution_count": 1,
   "metadata": {
    "collapsed": true
   },
   "outputs": [],
   "source": [
    "# Import dependencies\n",
    "%matplotlib inline\n",
    "import pandas as pd\n",
    "import numpy as np\n",
    "from SALib.analyze import sobol\n",
    "import plot\n",
    "import matplotlib.pyplot as plt"
   ]
  },
  {
   "cell_type": "markdown",
   "metadata": {},
   "source": [
    "Read in the data and create the output variables"
   ]
  },
  {
   "cell_type": "code",
   "execution_count": 2,
   "metadata": {
    "collapsed": true
   },
   "outputs": [],
   "source": [
    "# Read the data\n",
    "data = pd.read_csv('../Data/batchrun01-02-2018.csv')\n",
    "\n",
    "# Create output variables\n",
    "data['total'] = np.round(data['N'] // 2) + np.round((data['N'] // 2) * data['ratio']) + data['N'] - np.round(data['N'] // 2) - np.round(\n",
    "    (data['N'] // 2) * data['ratio'])\n",
    "data['pfl_net'] = (data['pheromone'] - data['followers'] - data['leaders']) / data['total']\n",
    "data['pu_net'] = (data['pheromone'] - data['unassigned']) / data['total']\n",
    "data['flu_net'] = (data['followers'] + data['leaders'] - data['unassigned']) / data['total']\n",
    "params = ['p_uf', 'p_pu', 'p_up', 'p_fl', 'p_lu', 'g', 'ratio', 'N', 'size']"
   ]
  },
  {
   "cell_type": "markdown",
   "metadata": {},
   "source": [
    "Compute the first order and total order sensitivity indices using the Sobol method. By changing the 'output' variable different output variables can be tested. The naming scheme is:\n",
    "\n",
    "- 'pfl-net' : (pheromoners - followers - leaders)/total\n",
    "- 'pu-net' : (pheromoners - unassigned)/total\n",
    "- 'flu-net' : (followers + leaders - unassigned)/total"
   ]
  },
  {
   "cell_type": "code",
   "execution_count": 3,
   "metadata": {},
   "outputs": [
    {
     "name": "stdout",
     "output_type": "stream",
     "text": [
      "Parameter S1 S1_conf ST ST_conf\n",
      "p_uf 0.003066 0.016164 0.094790 0.017385\n",
      "p_pu 0.336425 0.046215 0.674579 0.036754\n",
      "p_up 0.224872 0.042053 0.583114 0.037320\n",
      "p_fl 0.007505 0.016017 0.104576 0.015313\n",
      "p_lu 0.023506 0.023157 0.145052 0.022764\n",
      "g 0.010670 0.015238 0.088463 0.015267\n",
      "ratio 0.018206 0.017588 0.141046 0.020758\n",
      "N 0.009737 0.018516 0.115011 0.016986\n",
      "size -0.002448 0.017241 0.089094 0.014825\n",
      "\n",
      "Parameter_1 Parameter_2 S2 S2_conf\n",
      "p_uf p_pu -0.003043 0.018137\n",
      "p_uf p_up -0.016473 0.022164\n",
      "p_uf p_fl -0.012329 0.020304\n",
      "p_uf p_lu -0.008256 0.020892\n",
      "p_uf g -0.007199 0.020023\n",
      "p_uf ratio -0.004507 0.020355\n",
      "p_uf N -0.007473 0.019984\n",
      "p_uf size -0.006660 0.020098\n",
      "p_pu p_up 0.198844 0.052707\n",
      "p_pu p_fl 0.001598 0.047239\n",
      "p_pu p_lu -0.001075 0.052113\n",
      "p_pu g -0.007083 0.049689\n",
      "p_pu ratio 0.005705 0.049724\n",
      "p_pu N 0.000125 0.050293\n",
      "p_pu size 0.008577 0.049088\n",
      "p_up p_fl 0.003178 0.044890\n",
      "p_up p_lu 0.019730 0.043681\n",
      "p_up g 0.014099 0.043628\n",
      "p_up ratio 0.013853 0.043475\n",
      "p_up N 0.016379 0.044483\n",
      "p_up size 0.016492 0.043023\n",
      "p_fl p_lu -0.014483 0.021400\n",
      "p_fl g -0.011519 0.020367\n",
      "p_fl ratio -0.013759 0.019974\n",
      "p_fl N -0.018147 0.021355\n",
      "p_fl size -0.014375 0.020996\n",
      "p_lu g -0.012643 0.034683\n",
      "p_lu ratio -0.007401 0.032073\n",
      "p_lu N -0.009039 0.033793\n",
      "p_lu size -0.008474 0.032524\n",
      "g ratio -0.009112 0.018528\n",
      "g N -0.010104 0.020338\n",
      "g size -0.011378 0.019129\n",
      "ratio N -0.025095 0.029258\n",
      "ratio size -0.023314 0.028565\n",
      "N size -0.013607 0.024170\n"
     ]
    }
   ],
   "source": [
    "problem = {\n",
    "    'num_vars': 9,\n",
    "    'names': params,\n",
    "    'bounds': [[0, 1]] * 5 + [[0, 0.5]] + [[0, 1]] + [[10, 200]] + [[3, 20]]\n",
    "}\n",
    "\n",
    "output = 'pfl_net'\n",
    "Si = sobol.analyze(problem, data[output].as_matrix(), print_to_console=True)"
   ]
  },
  {
   "cell_type": "markdown",
   "metadata": {},
   "source": [
    "Plotting it gives more insight:"
   ]
  },
  {
   "cell_type": "code",
   "execution_count": 8,
   "metadata": {},
   "outputs": [
    {
     "data": {
      "image/png": "[encoded data removed]",
      "text/plain": [
       "<matplotlib.figure.Figure at 0x29e4f6afc18>"
      ]
     },
     "metadata": {},
     "output_type": "display_data"
    }
   ],
   "source": [
    "# First order\n",
    "plot.plot_index(Si, params, '1', title='First order sensitivity')\n",
    "plt.show()"
   ]
  },
  {
   "cell_type": "code",
   "execution_count": 6,
   "metadata": {},
   "outputs": [
    {
     "data": {
      "image/png": "[encoded data removed]",
      "text/plain": [
       "<matplotlib.figure.Figure at 0x29e4f6e2e48>"
      ]
     },
     "metadata": {},
     "output_type": "display_data"
    }
   ],
   "source": [
    "# Total order\n",
    "plot.plot_index(Si, params, 'T', title='Total order sensitivity')\n",
    "plt.show()"
   ]
  },
  {
   "cell_type": "code",
   "execution_count": null,
   "metadata": {
    "collapsed": true
   },
   "outputs": [],
   "source": []
  }
 ],
 "metadata": {
  "kernelspec": {
   "display_name": "Python 3",
   "language": "python",
   "name": "python3"
  },
  "language_info": {
   "codemirror_mode": {
    "name": "ipython",
    "version": 3
   },
   "file_extension": ".py",
   "mimetype": "text/x-python",
   "name": "python",
   "nbconvert_exporter": "python",
   "pygments_lexer": "ipython3",
   "version": "3.6.3"
  }
 },
 "nbformat": 4,
 "nbformat_minor": 1
}
