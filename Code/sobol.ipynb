{
 "cells": [
  {
   "cell_type": "markdown",
   "metadata": {
    "collapsed": true
   },
   "source": [
    "# Global sensitivity analysis using the Sobol method"
   ]
  },
  {
   "cell_type": "code",
   "execution_count": 2,
   "metadata": {
    "collapsed": true
   },
   "outputs": [],
   "source": [
    "# Imports\n",
    "%matplotlib inline\n",
    "import pandas as pd\n",
    "import numpy as np\n",
    "from SALib.analyze import sobol\n",
    "import plot\n",
    "import matplotlib.pyplot as plt"
   ]
  },
  {
   "cell_type": "markdown",
   "metadata": {},
   "source": [
    "Read in the data and create the output variables"
   ]
  },
  {
   "cell_type": "code",
   "execution_count": 3,
   "metadata": {
    "collapsed": true
   },
   "outputs": [],
   "source": [
    "# Read the data\n",
    "data = pd.read_csv('../Data/batchrun02-02-2018.csv')\n",
    "\n",
    "# Create output variables\n",
    "data['total'] = np.round(data['N'] // 2) + np.round((data['N'] // 2) * data['ratio']) + data['N'] - np.round(data['N'] // 2) - np.round(\n",
    "    (data['N'] // 2) * data['ratio'])\n",
    "data['pfl_net'] = (data['pheromone'] - data['followers'] - data['leaders']) / data['total']\n",
    "data['pu_net'] = (data['pheromone'] - data['unassigned']) / data['total']\n",
    "data['flu_net'] = (data['followers'] + data['leaders'] - data['unassigned']) / data['total']\n",
    "params = ['p_uf', 'p_pu', 'p_up', 'p_fl', 'p_lu', 'g', 'ratio', 'N', 'size']"
   ]
  },
  {
   "cell_type": "markdown",
   "metadata": {},
   "source": [
    "Compute the first order, second order, and total order sensitivity indices using the Sobol method. By changing the 'output' variable different output variables can be tested. The naming scheme is:\n",
    "\n",
    "- 'pfl_net' : (pheromoners - followers - leaders)/total\n",
    "- 'pu_net' : (pheromoners - unassigned)/total\n",
    "- 'flu_net' : (followers + leaders - unassigned)/total"
   ]
  },
  {
   "cell_type": "code",
   "execution_count": 4,
   "metadata": {},
   "outputs": [
    {
     "name": "stdout",
     "output_type": "stream",
     "text": [
      "Parameter S1 S1_conf ST ST_conf\n",
      "p_uf 0.015212 0.018382 0.127882 0.022635\n",
      "p_pu 0.242635 0.044159 0.546968 0.036841\n",
      "p_up 0.173367 0.036076 0.462923 0.032990\n",
      "p_fl -0.009059 0.016999 0.079870 0.015573\n",
      "p_lu 0.165721 0.054885 0.367186 0.042306\n",
      "g -0.007970 0.016051 0.072020 0.017263\n",
      "ratio -0.001634 0.017608 0.095910 0.016479\n",
      "N 0.004315 0.015684 0.084518 0.015367\n",
      "size 0.001146 0.013321 0.071850 0.014549\n",
      "\n",
      "Parameter_1 Parameter_2 S2 S2_conf\n",
      "p_uf p_pu -0.014133 0.025382\n",
      "p_uf p_up 0.003332 0.029804\n",
      "p_uf p_fl -0.012868 0.030081\n",
      "p_uf p_lu 0.007029 0.030179\n",
      "p_uf g -0.009666 0.028997\n",
      "p_uf ratio -0.009600 0.030218\n",
      "p_uf N -0.007412 0.029411\n",
      "p_uf size -0.008593 0.027882\n",
      "p_pu p_up 0.177383 0.046635\n",
      "p_pu p_fl 0.030404 0.046352\n",
      "p_pu p_lu 0.031571 0.045250\n",
      "p_pu g 0.026743 0.047333\n",
      "p_pu ratio 0.038281 0.047452\n",
      "p_pu N 0.012353 0.047431\n",
      "p_pu size 0.017676 0.046719\n",
      "p_up p_fl 0.039492 0.046020\n",
      "p_up p_lu 0.028964 0.046948\n",
      "p_up g 0.030703 0.046959\n",
      "p_up ratio 0.037398 0.046619\n",
      "p_up N 0.037938 0.045098\n",
      "p_up size 0.041923 0.047761\n",
      "p_fl p_lu 0.017438 0.026113\n",
      "p_fl g 0.015706 0.026351\n",
      "p_fl ratio 0.013202 0.025593\n",
      "p_fl N 0.005640 0.025711\n",
      "p_fl size 0.011211 0.025802\n",
      "p_lu g 0.008896 0.061130\n",
      "p_lu ratio 0.003705 0.061273\n",
      "p_lu N -0.013989 0.058952\n",
      "p_lu size -0.010636 0.059876\n",
      "g ratio 0.017181 0.023572\n",
      "g N 0.004914 0.022015\n",
      "g size 0.006404 0.022590\n",
      "ratio N 0.014707 0.027532\n",
      "ratio size 0.012644 0.026909\n",
      "N size -0.004628 0.022037\n"
     ]
    }
   ],
   "source": [
    "problem = {\n",
    "    'num_vars': 9,\n",
    "    'names': params,\n",
    "    'bounds': [[0, 1]] * 5 + [[0, 0.5]] + [[0, 1]] + [[10, 200]] + [[3, 20]]\n",
    "}\n",
    "output = 'flu_net'\n",
    "Si = sobol.analyze(problem, data[output].as_matrix(), print_to_console=True)"
   ]
  },
  {
   "cell_type": "markdown",
   "metadata": {},
   "source": [
    "Plotting it gives more insight:"
   ]
  },
  {
   "cell_type": "code",
   "execution_count": 5,
   "metadata": {},
   "outputs": [
    {
     "data": {
      "image/png": "[encoded data removed]",
      "text/plain": [
       "<matplotlib.figure.Figure at 0x16e227200f0>"
      ]
     },
     "metadata": {},
     "output_type": "display_data"
    }
   ],
   "source": [
    "# First order\n",
    "plot.plot_index(Si, params, '1', 'First order sensitivity')\n",
    "plt.show()"
   ]
  },
  {
   "cell_type": "code",
   "execution_count": 6,
   "metadata": {},
   "outputs": [
    {
     "data": {
      "image/png": "[encoded data removed]",
      "text/plain": [
       "<matplotlib.figure.Figure at 0x16e229fceb8>"
      ]
     },
     "metadata": {},
     "output_type": "display_data"
    }
   ],
   "source": [
    "# Total order\n",
    "plot.plot_index(Si, params, 'T', 'Total order sensitivity')\n",
    "plt.show()"
   ]
  },
  {
   "cell_type": "code",
   "execution_count": null,
   "metadata": {
    "collapsed": true
   },
   "outputs": [],
   "source": []
  }
 ],
 "metadata": {
  "kernelspec": {
   "display_name": "Python 3",
   "language": "python",
   "name": "python3"
  },
  "language_info": {
   "codemirror_mode": {
    "name": "ipython",
    "version": 3
   },
   "file_extension": ".py",
   "mimetype": "text/x-python",
   "name": "python",
   "nbconvert_exporter": "python",
   "pygments_lexer": "ipython3",
   "version": "3.6.3"
  }
 },
 "nbformat": 4,
 "nbformat_minor": 1
}
